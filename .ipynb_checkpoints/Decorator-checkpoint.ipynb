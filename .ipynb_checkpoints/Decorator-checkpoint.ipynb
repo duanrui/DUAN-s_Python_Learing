{
 "cells": [
  {
   "cell_type": "markdown",
   "id": "6ccd2bec",
   "metadata": {},
   "source": [
    "以下内容，参考：[理解 Python 装饰器看这一篇就够了](https://foofish.net/python-decorator.html)"
   ]
  },
  {
   "cell_type": "markdown",
   "id": "4bb7501d",
   "metadata": {},
   "source": [
    "# 一个简单的Decorator"
   ]
  },
  {
   "cell_type": "code",
   "execution_count": 1,
   "id": "c31e30f5",
   "metadata": {},
   "outputs": [],
   "source": [
    "import logging"
   ]
  },
  {
   "cell_type": "code",
   "execution_count": 15,
   "id": "ee8f57f1",
   "metadata": {},
   "outputs": [],
   "source": [
    "def foo():\n",
    "    print('I am foo.')"
   ]
  },
  {
   "cell_type": "code",
   "execution_count": 13,
   "id": "b2ff10c8",
   "metadata": {
    "scrolled": true
   },
   "outputs": [
    {
     "name": "stderr",
     "output_type": "stream",
     "text": [
      "<ipython-input-13-4af17559cc7e>:3: DeprecationWarning: The 'warn' function is deprecated, use 'warning' instead\n",
      "  logging.warn('%s is running' % func.__name__)\n",
      "WARNING:root:foo is running\n"
     ]
    },
    {
     "name": "stdout",
     "output_type": "stream",
     "text": [
      "I am foo.\n"
     ]
    }
   ],
   "source": [
    "def using_logging(func):\n",
    "    def wrap():\n",
    "        logging.warn('%s is running' % func.__name__)\n",
    "        return func()\n",
    "    return wrap\n",
    "\n",
    "foo = using_logging(foo)\n",
    "foo()"
   ]
  },
  {
   "cell_type": "markdown",
   "id": "aeac9272",
   "metadata": {},
   "source": [
    "# Syntactic Sugar: @"
   ]
  },
  {
   "cell_type": "code",
   "execution_count": 17,
   "id": "ecc9b482",
   "metadata": {},
   "outputs": [
    {
     "name": "stderr",
     "output_type": "stream",
     "text": [
      "WARNING:root:foo is running\n"
     ]
    },
    {
     "name": "stdout",
     "output_type": "stream",
     "text": [
      "I am foo!\n"
     ]
    }
   ],
   "source": [
    "# 将func做为参数传入decorator\n",
    "def using_logging(func):\n",
    "    # wrap意为：“包，裹，包装”，wrap的参数与func相同，func无参则wrap无参\n",
    "    def wrap():\n",
    "        logging.warning('%s is running' % func.__name__)\n",
    "        # 注意这里return的是func()，带括号\n",
    "        return func()\n",
    "    #注意这里return的是wrap，不带括号\n",
    "    return wrap\n",
    "\n",
    "# 不需要对foo函数进行任何修改，只需要在定义前加上装饰器就可以执行装饰器中的内容\n",
    "@using_logging\n",
    "def foo():\n",
    "    print('I am foo!')\n",
    "    \n",
    "foo()"
   ]
  },
  {
   "cell_type": "markdown",
   "id": "5a1c3816",
   "metadata": {},
   "source": [
    "# \\*args, **kwargs的使用"
   ]
  },
  {
   "cell_type": "code",
   "execution_count": 27,
   "id": "fd3ee97e",
   "metadata": {},
   "outputs": [
    {
     "name": "stderr",
     "output_type": "stream",
     "text": [
      "WARNING:root:foo is running\n"
     ]
    },
    {
     "name": "stdout",
     "output_type": "stream",
     "text": [
      "I am Duan, I am 33 years old.\n"
     ]
    }
   ],
   "source": [
    "# 将func做为参数传入decorator\n",
    "def using_logging(func):\n",
    "    # wrap意为：“包，裹，包装”，wrap的参数与func相同，func无参则wrap无参\n",
    "    def wrap(*args):\n",
    "        logging.warning('%s is running' % func.__name__)\n",
    "        # 注意这里return的是func()，带括号\n",
    "        return func(*args)\n",
    "    #注意这里return的是wrap，不带括号\n",
    "    return wrap\n",
    "\n",
    "@using_logging\n",
    "def foo(name, age):\n",
    "    print('I am %s, I am %i years old.' % (name, age))\n",
    "    \n",
    "foo('Duan', 33)"
   ]
  },
  {
   "cell_type": "code",
   "execution_count": 31,
   "id": "1793ce9f",
   "metadata": {},
   "outputs": [
    {
     "name": "stderr",
     "output_type": "stream",
     "text": [
      "WARNING:root:foo is running\n"
     ]
    },
    {
     "name": "stdout",
     "output_type": "stream",
     "text": [
      "I am Kejia, I am 10 years old, and I am 1.650000 tall.\n"
     ]
    }
   ],
   "source": [
    "# 将func做为参数传入decorator\n",
    "def using_logging(func):\n",
    "    # wrap意为：“包，裹，包装”，wrap的参数与func相同，func无参则wrap无参\n",
    "    def wrap(*args, **kwargs):\n",
    "        logging.warning('%s is running' % func.__name__)\n",
    "        # 注意这里return的是func()，带括号\n",
    "        return func(*args, **kwargs)\n",
    "    #注意这里return的是wrap，不带括号\n",
    "    return wrap\n",
    "\n",
    "@using_logging\n",
    "def foo(name, age=10, height=1.78):\n",
    "    print('I am %s, I am %i years old, and I am %f tall.' % (name, age, height))\n",
    "    \n",
    "foo('Kejia', height=1.65)"
   ]
  },
  {
   "cell_type": "markdown",
   "id": "1ec6886b",
   "metadata": {},
   "source": [
    "# 带参数的装饰器"
   ]
  },
  {
   "cell_type": "code",
   "execution_count": 60,
   "id": "6068da49",
   "metadata": {},
   "outputs": [
    {
     "name": "stdout",
     "output_type": "stream",
     "text": [
      "foo is running\n",
      "I am Kejia, I am 34 years old, and I am 1.650000 tall.\n"
     ]
    }
   ],
   "source": [
    "# 使用带参数的函数对装饰器进行封装\n",
    "def using_logging(level):\n",
    "    # 下面定义装饰器\n",
    "    def decorator(func):\n",
    "        def wrap(*args, **kwargs):\n",
    "            if level=='warning':\n",
    "                logging.warning('%s is running' % func.__name__)\n",
    "            elif level=='info':\n",
    "                print('%s is running' % func.__name__)\n",
    "                logging.info('%s is running' % func.__name__)\n",
    "            return func(*args, **kwargs)\n",
    "        return wrap\n",
    "    return decorator\n",
    "\n",
    "@using_logging(level='info')\n",
    "def foo(name, age=34, height=1.78):\n",
    "    print('I am %s, I am %i years old, and I am %f tall.' % (name, age, height))\n",
    "    \n",
    "foo('Kejia', height=1.65)"
   ]
  },
  {
   "cell_type": "code",
   "execution_count": 65,
   "id": "d77dde6f",
   "metadata": {},
   "outputs": [
    {
     "name": "stdout",
     "output_type": "stream",
     "text": [
      "foo is running\n",
      "I am Kejia, I am 34 years old, and I am 1.650000 tall.\n"
     ]
    }
   ],
   "source": [
    "# 使用带参数的函数对装饰器进行封装\n",
    "def using_logging(level='info'):\n",
    "    # 下面定义装饰器\n",
    "    def decorator(func):\n",
    "        def wrap(*args, **kwargs):\n",
    "            if level=='warning':\n",
    "                logging.warning('%s is running' % func.__name__)\n",
    "            elif level=='info':\n",
    "                print('%s is running' % func.__name__)\n",
    "                logging.info('%s is running' % func.__name__)\n",
    "            return func(*args, **kwargs)\n",
    "        return wrap\n",
    "    return decorator\n",
    "\n",
    "@using_logging()\n",
    "def foo(name, age=34, height=1.78):\n",
    "    print('I am %s, I am %i years old, and I am %f tall.' % (name, age, height))\n",
    "    \n",
    "foo('Kejia', height=1.65)"
   ]
  },
  {
   "cell_type": "markdown",
   "id": "d000e991",
   "metadata": {},
   "source": [
    "# class decorator"
   ]
  },
  {
   "cell_type": "code",
   "execution_count": 53,
   "id": "13361991",
   "metadata": {},
   "outputs": [
    {
     "name": "stdout",
     "output_type": "stream",
     "text": [
      "class decorator runing\n",
      "bar\n",
      "class decorator ending\n"
     ]
    }
   ],
   "source": [
    "class Foo():\n",
    "    # 将函数做为初始化参数传入类的实例化中\n",
    "    def __init__(self, func):\n",
    "        self._func = func\n",
    "    \n",
    "    # 利用__call__实现装饰作用，__call__的参数与函数的参数相同\n",
    "    def __call__(self):\n",
    "        print ('class decorator runing')\n",
    "        self._func()\n",
    "        print ('class decorator ending')\n",
    "\n",
    "@Foo\n",
    "def bar():\n",
    "    print ('bar')\n",
    "\n",
    "bar()"
   ]
  },
  {
   "cell_type": "markdown",
   "id": "a5f77af7",
   "metadata": {},
   "source": [
    "等价于以下形式："
   ]
  },
  {
   "cell_type": "code",
   "execution_count": 39,
   "id": "d13720b0",
   "metadata": {},
   "outputs": [
    {
     "name": "stdout",
     "output_type": "stream",
     "text": [
      "class decorator runing\n",
      "bar\n",
      "class decorator ending\n"
     ]
    }
   ],
   "source": [
    "class Foo(object):\n",
    "    def __init__(self, func):\n",
    "        self._func = func\n",
    "\n",
    "    def __call__(self):\n",
    "        print ('class decorator runing')\n",
    "        self._func()\n",
    "        print ('class decorator ending')\n",
    "\n",
    "def bar():\n",
    "    print ('bar')\n",
    "\n",
    "# 构造了Foo的一个实例\n",
    "bar = Foo(bar)\n",
    "# 通过实例bar()调用__call__方法\n",
    "bar()"
   ]
  },
  {
   "cell_type": "markdown",
   "id": "a97a23b7",
   "metadata": {},
   "source": [
    "《[理解 Python 装饰器看这一篇就够了](https://foofish.net/python-decorator.html)》中还提到：\n",
    ">相比函数装饰器，类装饰器具有灵活度大、高内聚、封装性等优点。\n",
    "\n",
    "我暂时还无法理解这句话。"
   ]
  },
  {
   "cell_type": "code",
   "execution_count": 44,
   "id": "359797eb",
   "metadata": {},
   "outputs": [
    {
     "name": "stdout",
     "output_type": "stream",
     "text": [
      "class decorator runing\n",
      "Hi, my name is Duan Rui\n",
      "class decorator ending\n"
     ]
    }
   ],
   "source": [
    "class Foo(object):\n",
    "    def __init__(self, func):\n",
    "        self._func = func\n",
    "\n",
    "    def __call__(self, *args):\n",
    "        print ('class decorator runing')\n",
    "        self._func(*args)\n",
    "        print ('class decorator ending')\n",
    "\n",
    "@Foo\n",
    "def hi(name):\n",
    "    print ('Hi, my name is %s' % name)\n",
    "\n",
    "hi('Duan Rui')"
   ]
  },
  {
   "cell_type": "markdown",
   "id": "2499a0a8",
   "metadata": {},
   "source": [
    "# Decorator的四种类型\n",
    "参考：[python装饰器的4种类型：函数装饰函数、函数装饰类、类装饰函数、类装饰类](https://blog.csdn.net/xiemanR/article/details/72510885)\n",
    "\n",
    "1. 函数装饰函数  \n",
    "前面讨论的主要是这种类型。 "
   ]
  },
  {
   "cell_type": "markdown",
   "id": "42e8a202",
   "metadata": {},
   "source": [
    "2. 函数装饰类"
   ]
  },
  {
   "cell_type": "code",
   "execution_count": 50,
   "id": "4f01c7fa",
   "metadata": {},
   "outputs": [
    {
     "name": "stdout",
     "output_type": "stream",
     "text": [
      "Class name:  Foo\n",
      "Hi, my name is Hu Kejia.\n"
     ]
    }
   ],
   "source": [
    "# 将Class Name做为参数传入\n",
    "def decorateClass(cls):\n",
    "    # 将类实例化的参数传入\n",
    "    def wrap(a):\n",
    "        print('Class name: ', cls.__name__)\n",
    "        # 返回类的实例\n",
    "        return cls(a)\n",
    "    return wrap\n",
    "\n",
    "@decorateClass\n",
    "class Foo():\n",
    "    def __init__(self, name):\n",
    "        self.name = name\n",
    "    def introduce(self):\n",
    "        print('Hi, my name is %s.' % self.name)\n",
    "\n",
    "foo = Foo('Hu Kejia')\n",
    "foo.introduce()\n",
    "        "
   ]
  },
  {
   "cell_type": "markdown",
   "id": "42cda4a3",
   "metadata": {},
   "source": [
    "等价于："
   ]
  },
  {
   "cell_type": "code",
   "execution_count": 51,
   "id": "06c186d5",
   "metadata": {},
   "outputs": [
    {
     "name": "stdout",
     "output_type": "stream",
     "text": [
      "Class name:  Foo\n",
      "Hi, my name is Hu Kejia.\n"
     ]
    }
   ],
   "source": [
    "def decorateClass(cls):\n",
    "    def wrap(a):\n",
    "        print('Class name: ', cls.__name__)\n",
    "        return cls(a)\n",
    "    return wrap\n",
    "\n",
    "#@decorateClass\n",
    "class Foo():\n",
    "    def __init__(self, name):\n",
    "        self.name = name\n",
    "    def introduce(self):\n",
    "        print('Hi, my name is %s.' % self.name)\n",
    "\n",
    "#foo = Foo('Hu Kejia')\n",
    "foo = decorateClass(Foo)('Hu Kejia')\n",
    "foo.introduce()"
   ]
  },
  {
   "cell_type": "markdown",
   "id": "1bdcb24a",
   "metadata": {},
   "source": [
    "在“函数装饰类”中，装饰发生在类的实例化过程中。"
   ]
  },
  {
   "cell_type": "markdown",
   "id": "714c60de",
   "metadata": {},
   "source": [
    "3. 类装饰函数  \n",
    "前面提到的“class decorator”即为类装饰函数。"
   ]
  },
  {
   "cell_type": "markdown",
   "id": "8cfc380d",
   "metadata": {},
   "source": [
    "4. 类装饰类"
   ]
  },
  {
   "cell_type": "code",
   "execution_count": 59,
   "id": "8d952f91",
   "metadata": {},
   "outputs": [
    {
     "name": "stdout",
     "output_type": "stream",
     "text": [
      "Class name is: Foo.\n",
      "My name is: Hu Kejia.\n"
     ]
    }
   ],
   "source": [
    "class Decorator():\n",
    "    def __init__(self, cls):\n",
    "        self.cls = cls\n",
    "        \n",
    "    def __call__(self, *args):\n",
    "        print('Class name is: %s.' % self.cls.__name__)\n",
    "        return self.cls(*args)\n",
    "\n",
    "@Decorator\n",
    "class Foo():\n",
    "    def __init__(self, name):\n",
    "        self.name = name        \n",
    "    def introduce(self):\n",
    "        print('My name is: %s.' % self.name)\n",
    "\n",
    "foo = Foo('Hu Kejia')\n",
    "foo.introduce()"
   ]
  },
  {
   "cell_type": "markdown",
   "id": "686ed84f",
   "metadata": {},
   "source": [
    "等价于："
   ]
  },
  {
   "cell_type": "code",
   "execution_count": 57,
   "id": "bd522997",
   "metadata": {},
   "outputs": [
    {
     "name": "stdout",
     "output_type": "stream",
     "text": [
      "Class name is: Foo.\n",
      "My name is: Hu Kejia.\n"
     ]
    }
   ],
   "source": [
    "class Decorator():\n",
    "    def __init__(self, cls):\n",
    "        self.cls = cls\n",
    "        \n",
    "    def __call__(self, *args):\n",
    "        print('Class name is: %s.' % self.cls.__name__)\n",
    "        return self.cls(*args)\n",
    "\n",
    "\n",
    "class Foo():\n",
    "    def __init__(self, name):\n",
    "        self.name = name        \n",
    "    def introduce(self):\n",
    "        print('My name is: %s.' % self.name)\n",
    "        \n",
    "foo = Decorator(Foo)('Hu Kejia')\n",
    "foo.introduce()"
   ]
  },
  {
   "cell_type": "markdown",
   "id": "3fd9fec2",
   "metadata": {},
   "source": [
    "# Decorator with or without parentheses  \n",
    "参考StackOverflow上的一篇回答[Using python decorator with or without parentheses](https://stackoverflow.com/questions/35572663/using-python-decorator-with-or-without-parentheses).  \n",
    "基本的意思是：不带有括号时，其本身就是一个decorator，而带有括号时，其返回值是一个decorator。  \n",
    "但也可以写一个函数，它既可以不带括号做为decorator，也可以带括号做为decorator，具体如下："
   ]
  },
  {
   "cell_type": "code",
   "execution_count": null,
   "id": "3d0aaf0b",
   "metadata": {},
   "outputs": [],
   "source": [
    "def some_decorator(arg=None):\n",
    "    def decorator(func):\n",
    "        def wrap(*a, **ka):\n",
    "            if not callable(arg):\n",
    "                print(arg)\n",
    "                print('decorator starts...')\n",
    "                return func(*a, **ka)\n",
    "            else:\n",
    "                print('decorator starts...')\n",
    "                return func(*a, **ka)\n",
    "        return wrap\n",
    "    if callable(arg):\n",
    "        return decorator(arg)\n",
    "    else:\n",
    "        return decorator\n",
    "    \n",
    "def foo():\n",
    "    print('I am a foo!')\n",
    "    \n",
    "foo = some_decorator(foo)\n",
    "foo()"
   ]
  }
 ],
 "metadata": {
  "kernelspec": {
   "display_name": "Python 3",
   "language": "python",
   "name": "python3"
  },
  "language_info": {
   "codemirror_mode": {
    "name": "ipython",
    "version": 3
   },
   "file_extension": ".py",
   "mimetype": "text/x-python",
   "name": "python",
   "nbconvert_exporter": "python",
   "pygments_lexer": "ipython3",
   "version": "3.8.13"
  }
 },
 "nbformat": 4,
 "nbformat_minor": 5
}
