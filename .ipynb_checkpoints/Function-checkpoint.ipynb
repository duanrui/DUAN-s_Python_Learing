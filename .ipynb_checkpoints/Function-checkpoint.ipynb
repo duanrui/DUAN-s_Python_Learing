{
 "cells": [
  {
   "cell_type": "markdown",
   "id": "5f2e6e9f",
   "metadata": {},
   "source": [
    "# 内嵌函数"
   ]
  },
  {
   "cell_type": "code",
   "execution_count": 11,
   "id": "2545938f",
   "metadata": {},
   "outputs": [
    {
     "name": "stdout",
     "output_type": "stream",
     "text": [
      "1\n",
      "1\n"
     ]
    }
   ],
   "source": [
    "def outer():\n",
    "    x = 1\n",
    "    def inner():\n",
    "        print(x)\n",
    "        x = 2\n",
    "        #print(x)\n",
    "    inner()\n",
    "    print(x)\n",
    "\n",
    "outer()"
   ]
  }
 ],
 "metadata": {
  "kernelspec": {
   "display_name": "Python 3",
   "language": "python",
   "name": "python3"
  },
  "language_info": {
   "codemirror_mode": {
    "name": "ipython",
    "version": 3
   },
   "file_extension": ".py",
   "mimetype": "text/x-python",
   "name": "python",
   "nbconvert_exporter": "python",
   "pygments_lexer": "ipython3",
   "version": "3.8.13"
  }
 },
 "nbformat": 4,
 "nbformat_minor": 5
}
