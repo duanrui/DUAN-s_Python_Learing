{
 "cells": [
  {
   "cell_type": "markdown",
   "id": "560679a0",
   "metadata": {},
   "source": [
    "# 函数的参数"
   ]
  },
  {
   "cell_type": "code",
   "execution_count": null,
   "id": "558f0787",
   "metadata": {},
   "outputs": [],
   "source": []
  },
  {
   "cell_type": "markdown",
   "id": "a63fd2fa",
   "metadata": {},
   "source": [
    "# 内嵌函数"
   ]
  },
  {
   "cell_type": "code",
   "execution_count": 13,
   "id": "d74ecd28",
   "metadata": {},
   "outputs": [
    {
     "name": "stdout",
     "output_type": "stream",
     "text": [
      "2\n",
      "1\n"
     ]
    }
   ],
   "source": [
    "def outer():\n",
    "    x = 1\n",
    "    def inner():\n",
    "        x = 2\n",
    "        print(x)\n",
    "    inner()\n",
    "    print(x)\n",
    "\n",
    "outer()"
   ]
  },
  {
   "cell_type": "markdown",
   "id": "a48f9b95",
   "metadata": {},
   "source": [
    "# 函数是一等公民（Functions are first class objects in Python）"
   ]
  },
  {
   "cell_type": "code",
   "execution_count": 20,
   "id": "ce71d1a1",
   "metadata": {},
   "outputs": [
    {
     "name": "stdout",
     "output_type": "stream",
     "text": [
      "<class 'function'>\n"
     ]
    },
    {
     "data": {
      "text/plain": [
       "True"
      ]
     },
     "execution_count": 20,
     "metadata": {},
     "output_type": "execute_result"
    }
   ],
   "source": [
    "def foo():\n",
    "    pass\n",
    "\n",
    "print(foo.__class__)\n",
    "issubclass(foo.__class__, object)"
   ]
  },
  {
   "cell_type": "markdown",
   "id": "600c9ad5",
   "metadata": {},
   "source": [
    "# 闭包"
   ]
  },
  {
   "cell_type": "code",
   "execution_count": 21,
   "id": "7c6ff201",
   "metadata": {},
   "outputs": [
    {
     "name": "stdout",
     "output_type": "stream",
     "text": [
      "1\n"
     ]
    }
   ],
   "source": [
    "def outer():\n",
    "    x = 1\n",
    "    def inner():\n",
    "        print(x)\n",
    "    return inner\n",
    "\n",
    "foo = outer()\n",
    "foo()"
   ]
  }
 ],
 "metadata": {
  "kernelspec": {
   "display_name": "Python 3",
   "language": "python",
   "name": "python3"
  },
  "language_info": {
   "codemirror_mode": {
    "name": "ipython",
    "version": 3
   },
   "file_extension": ".py",
   "mimetype": "text/x-python",
   "name": "python",
   "nbconvert_exporter": "python",
   "pygments_lexer": "ipython3",
   "version": "3.8.13"
  }
 },
 "nbformat": 4,
 "nbformat_minor": 5
}
